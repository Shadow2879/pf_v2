{
 "cells": [
  {
   "cell_type": "code",
   "execution_count": 1,
   "id": "8854e112",
   "metadata": {},
   "outputs": [],
   "source": [
    "from data_transformation import get_model_data,get_data_loaders,get_dataframes\n",
    "from env_var import load_env_var\n",
    "import torch\n",
    "import numpy as np\n",
    "from datetime import datetime\n",
    "import random\n",
    "import dotenv\n",
    "from tf_classes import TFModel,BaselineMeanModel,BaselineZeroModel,BaselinePrevModel\n",
    "from torch import nn,optim\n",
    "import lightning as L\n",
    "from Lightning_modules import LitDataModule,LitTFmodel\n",
    "from lightning.pytorch import callbacks\n",
    "import os\n",
    "import json"
   ]
  },
  {
   "cell_type": "code",
   "execution_count": 22,
   "id": "edc03955",
   "metadata": {},
   "outputs": [
    {
     "name": "stdout",
     "output_type": "stream",
     "text": [
      "saving data to /workspace/pf_v2/data_dir/model/04-May-25-2233/\n"
     ]
    }
   ],
   "source": [
    "dotenv.load_dotenv()\n",
    "device='cuda'\n",
    "random.seed(0)\n",
    "torch.manual_seed(0)\n",
    "np.random.seed(0)\n",
    "results_dir=os.path.join(os.getcwd(),'data_dir','model',datetime.now().strftime('%d-%h-%y-%H%M/'))\n",
    "os.makedirs(results_dir,exist_ok=True)\n",
    "data_dir=load_env_var('MODEL_DATA_DIR','path')\n",
    "file_count=1000\n",
    "input_duration=50\n",
    "pred_duration=1\n",
    "window_inc=1\n",
    "resolution=1000\n",
    "batch_size=8\n",
    "data_block_size=252\n",
    "print(f'saving data to {results_dir}')\n",
    "model_type='tf'\n"
   ]
  },
  {
   "cell_type": "code",
   "execution_count": 3,
   "id": "ede6970d",
   "metadata": {},
   "outputs": [
    {
     "name": "stdout",
     "output_type": "stream",
     "text": [
      "filled datapoints due to NAs:\n",
      "{'EMAMILTD': np.int64(0), 'MFSL': np.int64(0), 'SAREGAMA': np.int64(0), 'MARICO': np.int64(0), 'BASF': np.int64(0), 'SOLARINDS': np.int64(0), 'DCMSHRIRAM': np.int64(0), 'TITAGARH': np.int64(0), 'COFORGE': np.int64(0), 'BAJAJHLDNG': np.int64(0), 'BRITANNIA': np.int64(0), 'AMBER': np.int64(0), 'HINDZINC': np.int64(0), 'MAHSCOOTER': np.int64(0), 'JUSTDIAL': np.int64(0), 'ASTERDM': np.int64(0), 'THERMAX': np.int64(0), 'INGERRAND': np.int64(0), 'GODFRYPHLP': np.int64(0), 'CHOLAHLDNG': np.int64(0), 'SUPREMEIND': np.int64(0), 'GLENMARK': np.int64(0), 'BHARTIARTL': np.int64(0), 'ENDURANCE': np.int64(0), 'IFCI': np.int64(0), 'VGUARD': np.int64(0), 'FORTIS': np.int64(0), 'HEG': np.int64(0), 'RVNL': np.int64(0), 'ASAHIINDIA': np.int64(0), 'COLPAL': np.int64(0), 'INFY': np.int64(0), 'INDUSTOWER': np.int64(0)}\n",
      "(1372, 2) EMAMILTD\n",
      " rows dropped due to extra length:0 \n",
      " rows dropped due to NA counts: 0\n",
      "\n",
      "(1372, 2) MFSL\n",
      " rows dropped due to extra length:0 \n",
      " rows dropped due to NA counts: 0\n",
      "\n",
      "(1372, 2) SAREGAMA\n",
      " rows dropped due to extra length:0 \n",
      " rows dropped due to NA counts: 0\n",
      "\n",
      "(1372, 2) MARICO\n",
      " rows dropped due to extra length:0 \n",
      " rows dropped due to NA counts: 0\n",
      "\n",
      "(1372, 2) BASF\n",
      " rows dropped due to extra length:0 \n",
      " rows dropped due to NA counts: 0\n",
      "\n",
      "(1372, 2) SOLARINDS\n",
      " rows dropped due to extra length:0 \n",
      " rows dropped due to NA counts: 0\n",
      "\n",
      "(1372, 2) DCMSHRIRAM\n",
      " rows dropped due to extra length:0 \n",
      " rows dropped due to NA counts: 0\n",
      "\n",
      "(1372, 2) TITAGARH\n",
      " rows dropped due to extra length:0 \n",
      " rows dropped due to NA counts: 0\n",
      "\n",
      "(1372, 2) COFORGE\n",
      " rows dropped due to extra length:0 \n",
      " rows dropped due to NA counts: 0\n",
      "\n",
      "(1372, 2) BAJAJHLDNG\n",
      " rows dropped due to extra length:0 \n",
      " rows dropped due to NA counts: 0\n",
      "\n",
      "(1372, 2) BRITANNIA\n",
      " rows dropped due to extra length:0 \n",
      " rows dropped due to NA counts: 0\n",
      "\n",
      "(1372, 2) AMBER\n",
      " rows dropped due to extra length:0 \n",
      " rows dropped due to NA counts: 0\n",
      "\n",
      "(1372, 2) HINDZINC\n",
      " rows dropped due to extra length:0 \n",
      " rows dropped due to NA counts: 0\n",
      "\n",
      "(1372, 2) MAHSCOOTER\n",
      " rows dropped due to extra length:0 \n",
      " rows dropped due to NA counts: 0\n",
      "\n",
      "(1372, 2) JUSTDIAL\n",
      " rows dropped due to extra length:0 \n",
      " rows dropped due to NA counts: 0\n",
      "\n",
      "(1372, 2) ASTERDM\n",
      " rows dropped due to extra length:0 \n",
      " rows dropped due to NA counts: 0\n",
      "\n",
      "(1372, 2) THERMAX\n",
      " rows dropped due to extra length:0 \n",
      " rows dropped due to NA counts: 0\n",
      "\n",
      "(1372, 2) INGERRAND\n",
      " rows dropped due to extra length:0 \n",
      " rows dropped due to NA counts: 0\n",
      "\n",
      "(1372, 2) GODFRYPHLP\n",
      " rows dropped due to extra length:0 \n",
      " rows dropped due to NA counts: 0\n",
      "\n",
      "(1372, 2) CHOLAHLDNG\n",
      " rows dropped due to extra length:0 \n",
      " rows dropped due to NA counts: 0\n",
      "\n",
      "(1372, 2) SUPREMEIND\n",
      " rows dropped due to extra length:0 \n",
      " rows dropped due to NA counts: 0\n",
      "\n",
      "(1372, 2) GLENMARK\n",
      " rows dropped due to extra length:0 \n",
      " rows dropped due to NA counts: 0\n",
      "\n",
      "(1372, 2) BHARTIARTL\n",
      " rows dropped due to extra length:0 \n",
      " rows dropped due to NA counts: 0\n",
      "\n",
      "(1372, 2) ENDURANCE\n",
      " rows dropped due to extra length:0 \n",
      " rows dropped due to NA counts: 0\n",
      "\n",
      "(1372, 2) IFCI\n",
      " rows dropped due to extra length:0 \n",
      " rows dropped due to NA counts: 0\n",
      "\n",
      "(1372, 2) VGUARD\n",
      " rows dropped due to extra length:0 \n",
      " rows dropped due to NA counts: 0\n",
      "\n",
      "(1372, 2) FORTIS\n",
      " rows dropped due to extra length:0 \n",
      " rows dropped due to NA counts: 0\n",
      "\n",
      "(1372, 2) HEG\n",
      " rows dropped due to extra length:0 \n",
      " rows dropped due to NA counts: 0\n",
      "\n",
      "(1372, 2) RVNL\n",
      " rows dropped due to extra length:0 \n",
      " rows dropped due to NA counts: 0\n",
      "\n",
      "(1372, 2) ASAHIINDIA\n",
      " rows dropped due to extra length:0 \n",
      " rows dropped due to NA counts: 0\n",
      "\n",
      "(1372, 2) COLPAL\n",
      " rows dropped due to extra length:0 \n",
      " rows dropped due to NA counts: 0\n",
      "\n",
      "(1372, 2) INFY\n",
      " rows dropped due to extra length:0 \n",
      " rows dropped due to NA counts: 0\n",
      "\n",
      "(1372, 2) INDUSTOWER\n",
      " rows dropped due to extra length:0 \n",
      " rows dropped due to NA counts: 0\n",
      "\n",
      "imputed indices:[198]imputed indices:[]imputed indices:[]imputed indices:[50]imputed indices:[191, 1236]imputed indices:[]imputed indices:[]imputed indices:[198]imputed indices:[198]        imputed indices:[198] imputed indices:[730]imputed indices:[]imputed indices:[]imputed indices:[196]imputed indices:[]imputed indices:[1226]imputed values:[] for BASF\n",
      "imputed values:[] for SOLARINDS\n",
      "imputed values:[-0.22311876569309774] for SAREGAMA\n",
      "imputed values:[] for EMAMILTD\n",
      "   imputed values:[-0.22269465784068673] for DCMSHRIRAM\n",
      "imputed values:[] for MARICO\n",
      "imputed values:[-0.34578590264888276] for MFSL\n",
      " imputed values:[-0.2797386822527473] for COFORGE\n",
      "   imputed indices:[]imputed values:[-0.22004072923346535, -0.22046710833891123] for TITAGARH\n",
      "imputed values:[] for BRITANNIA\n",
      "imputed values:[-0.22312707142419386] for BAJAJHLDNG\n",
      "imputed values:[-0.22312870554737024] for AMBER\n",
      " imputed values:[0.22794389122554068] for HINDZINC\n",
      "imputed indices:[]imputed indices:[]imputed values:[] for JUSTDIAL\n",
      "imputed values:[-0.2185078338683581] for ASTERDM\n",
      " imputed indices:[]imputed values:[] for MAHSCOOTER\n",
      " imputed indices:[]imputed values:[] for INGERRAND\n",
      "imputed values:[] for THERMAX\n",
      " imputed values:[] for GODFRYPHLP\n",
      "imputed values:[] for CHOLAHLDNG\n",
      " imputed indices:[191, 257]imputed values:[] for SUPREMEIND\n",
      "imputed indices:[] imputed indices:[47] imputed indices:[]imputed indices:[1149] imputed indices:[]imputed indices:[]imputed values:[] for BHARTIARTL\n",
      "  imputed values:[-0.2621325905324146, 0.23877737062272972] for GLENMARK\n",
      " imputed values:[] for VGUARD\n",
      "imputed indices:[198]imputed values:[-0.22310311879645772] for ENDURANCE\n",
      " imputed values:[] for HEG\n",
      "imputed values:[0.22002347151313548] for IFCI\n",
      "imputed indices:[] imputed values:[] for FORTIS\n",
      " imputed values:[] for ASAHIINDIA\n",
      "imputed values:[-0.22134015441548438] for RVNL\n",
      "imputed indices:[] imputed indices:[195, 678]imputed indices:[] imputed values:[] for COLPAL\n",
      " imputed values:[-0.2599494558983531, -0.2001630510608958] for INDUSTOWER\n",
      "imputed values:[] for INFY\n",
      "NAcounts in the dict:0\n"
     ]
    }
   ],
   "source": [
    "df_dict,files=get_dataframes('/workspace/pf_v2/data_dir/processed/250422_33.npz')\n",
    "test_key=files[0]"
   ]
  },
  {
   "cell_type": "code",
   "execution_count": 4,
   "id": "ea8b445d",
   "metadata": {},
   "outputs": [],
   "source": [
    "close_prices={}\n",
    "for i in df_dict.keys():\n",
    "    close_prices[i],_=(df_dict[i][['close']][:]),df_dict[i].drop(columns='close',axis=1,inplace=True)"
   ]
  },
  {
   "cell_type": "code",
   "execution_count": 5,
   "id": "5f18ca50",
   "metadata": {},
   "outputs": [
    {
     "data": {
      "text/plain": [
       "(torch.Size([1322, 50, 33]),\n",
       " torch.Size([1322, 33, 1]),\n",
       " torch.Size([1323, 50, 33]))"
      ]
     },
     "execution_count": 5,
     "metadata": {},
     "output_type": "execute_result"
    }
   ],
   "source": [
    "(xin,yop)=get_model_data(df_dict,None,None,input_duration,pred_duration,window_inc)\n",
    "(x_price,_)=get_model_data(close_prices,None,None,input_duration,0,window_inc)[-2:]\n",
    "xin,x_price,yop=torch.tensor(xin),torch.tensor(x_price),torch.tensor(yop)\n",
    "xin.shape,yop.shape,x_price.shape\n"
   ]
  },
  {
   "cell_type": "code",
   "execution_count": 6,
   "id": "c005295f",
   "metadata": {},
   "outputs": [],
   "source": [
    "datamod=LitDataModule(xin,yop,input_duration,pred_duration,data_block_size,batch_size)"
   ]
  },
  {
   "cell_type": "code",
   "execution_count": 7,
   "id": "f011d92e",
   "metadata": {},
   "outputs": [
    {
     "name": "stdout",
     "output_type": "stream",
     "text": [
      "[dataIndices(val_start=62, val_end=72, train_start=122, train_end=204, test_start=254, test_end=264), dataIndices(val_start=264, val_end=274, train_start=324, train_end=406, test_start=456, test_end=466), dataIndices(val_start=466, val_end=476, train_start=526, train_end=608, test_start=658, test_end=668), dataIndices(val_start=668, val_end=678, train_start=728, train_end=810, test_start=860, test_end=870), dataIndices(val_start=870, val_end=880, train_start=930, train_end=1012, test_start=1062, test_end=1072)]\n"
     ]
    },
    {
     "name": "stderr",
     "output_type": "stream",
     "text": [
      "/workspace/pf_v2/data_transformation.py:40: UserWarning: To copy construct from a tensor, it is recommended to use sourceTensor.clone().detach() or sourceTensor.clone().detach().requires_grad_(True), rather than torch.tensor(sourceTensor).\n",
      "  self.vars=[torch.tensor(i) for i in args]\n"
     ]
    }
   ],
   "source": [
    "stockvalloader,stocktrainloader,stocktestloader,data_splits=get_data_loaders(\n",
    "    xin,yop,\n",
    "    input_duration=input_duration,batch_size=batch_size,\n",
    "    pred_duration=pred_duration,data_block_size=data_block_size,\n",
    "    val_data_split=0.1,shuffle=True,\n",
    ")\n"
   ]
  },
  {
   "cell_type": "code",
   "execution_count": 8,
   "id": "4fd4b511",
   "metadata": {},
   "outputs": [
    {
     "name": "stdout",
     "output_type": "stream",
     "text": [
      "[dataIndices(val_start=62, val_end=72, train_start=122, train_end=204, test_start=254, test_end=264), dataIndices(val_start=264, val_end=274, train_start=324, train_end=406, test_start=456, test_end=466), dataIndices(val_start=466, val_end=476, train_start=526, train_end=608, test_start=658, test_end=668), dataIndices(val_start=668, val_end=678, train_start=728, train_end=810, test_start=860, test_end=870), dataIndices(val_start=870, val_end=880, train_start=930, train_end=1012, test_start=1062, test_end=1072)]\n",
      "[dataIndices(val_start=62, val_end=72, train_start=122, train_end=204, test_start=254, test_end=264), dataIndices(val_start=264, val_end=274, train_start=324, train_end=406, test_start=456, test_end=466), dataIndices(val_start=466, val_end=476, train_start=526, train_end=608, test_start=658, test_end=668), dataIndices(val_start=668, val_end=678, train_start=728, train_end=810, test_start=860, test_end=870), dataIndices(val_start=870, val_end=880, train_start=930, train_end=1012, test_start=1062, test_end=1072)]\n"
     ]
    }
   ],
   "source": [
    "datamod.setup('fit')"
   ]
  },
  {
   "cell_type": "code",
   "execution_count": 9,
   "id": "697ef18e",
   "metadata": {},
   "outputs": [
    {
     "data": {
      "text/plain": [
       "[tensor([[[ 2.8279e-02,  8.7086e-03, -8.1244e-04,  ...,  8.8350e-03,\n",
       "            3.4880e-03, -4.6189e-02],\n",
       "          [ 7.5075e-03,  1.9363e-03, -9.8006e-03,  ...,  8.0919e-03,\n",
       "            1.4462e-02,  1.4680e-02],\n",
       "          [ 5.7177e-03,  2.5532e-02, -3.8767e-03,  ...,  3.1375e-03,\n",
       "           -1.1765e-02,  4.4618e-02],\n",
       "          ...,\n",
       "          [ 1.4097e-02,  3.7009e-02, -1.2709e-03,  ..., -1.3624e-02,\n",
       "           -6.6703e-03,  1.2539e-03],\n",
       "          [ 2.0973e-03, -1.4276e-02,  4.5470e-02,  ...,  5.9018e-03,\n",
       "           -1.4765e-03,  0.0000e+00],\n",
       "          [-4.3396e-03,  1.2056e-01,  3.3260e-02,  ..., -3.6361e-03,\n",
       "           -9.8650e-03, -6.2854e-03]],\n",
       " \n",
       "         [[ 7.5075e-03,  1.9363e-03, -9.8006e-03,  ...,  8.0919e-03,\n",
       "            1.4462e-02,  1.4680e-02],\n",
       "          [ 5.7177e-03,  2.5532e-02, -3.8767e-03,  ...,  3.1375e-03,\n",
       "           -1.1765e-02,  4.4618e-02],\n",
       "          [ 1.0112e-02, -1.7016e-02,  1.6112e-02,  ...,  1.4997e-02,\n",
       "           -2.6255e-03,  1.8112e-02],\n",
       "          ...,\n",
       "          [ 2.0973e-03, -1.4276e-02,  4.5470e-02,  ...,  5.9018e-03,\n",
       "           -1.4765e-03,  0.0000e+00],\n",
       "          [-4.3396e-03,  1.2056e-01,  3.3260e-02,  ..., -3.6361e-03,\n",
       "           -9.8650e-03, -6.2854e-03],\n",
       "          [-3.9359e-03, -2.0187e-03,  3.3611e-02,  ..., -2.1950e-03,\n",
       "            1.3447e-02,  1.1285e-02]],\n",
       " \n",
       "         [[ 5.7177e-03,  2.5532e-02, -3.8767e-03,  ...,  3.1375e-03,\n",
       "           -1.1765e-02,  4.4618e-02],\n",
       "          [ 1.0112e-02, -1.7016e-02,  1.6112e-02,  ...,  1.4997e-02,\n",
       "           -2.6255e-03,  1.8112e-02],\n",
       "          [ 9.8095e-02,  1.3115e-03,  1.5401e-02,  ...,  2.2118e-02,\n",
       "            2.3802e-02,  4.1746e-02],\n",
       "          ...,\n",
       "          [-4.3396e-03,  1.2056e-01,  3.3260e-02,  ..., -3.6361e-03,\n",
       "           -9.8650e-03, -6.2854e-03],\n",
       "          [-3.9359e-03, -2.0187e-03,  3.3611e-02,  ..., -2.1950e-03,\n",
       "            1.3447e-02,  1.1285e-02],\n",
       "          [ 1.3014e-02, -2.4878e-02,  4.4003e-02,  ..., -4.5824e-03,\n",
       "           -3.9518e-03, -2.9970e-03]],\n",
       " \n",
       "         ...,\n",
       " \n",
       "         [[-2.6374e-02,  2.1345e-02, -5.3748e-03,  ..., -1.4054e-02,\n",
       "           -9.0606e-03,  3.0081e-03],\n",
       "          [ 7.5094e-03,  5.6314e-02, -3.2159e-03,  ...,  6.6406e-03,\n",
       "           -1.9299e-02, -1.9936e-02],\n",
       "          [ 1.8119e-03, -3.8900e-02,  4.6017e-04,  ..., -4.5537e-03,\n",
       "            6.5876e-02, -3.4966e-02],\n",
       "          ...,\n",
       "          [-1.6400e-02, -8.8224e-03, -2.4774e-02,  ..., -1.0091e-02,\n",
       "           -1.2538e-02,  7.9721e-03],\n",
       "          [ 8.8639e-03, -1.4907e-02, -4.9027e-02,  ..., -1.9576e-02,\n",
       "           -7.1358e-03, -1.4748e-02],\n",
       "          [ 1.0174e-02,  2.3481e-02, -2.5996e-02,  ...,  1.0725e-02,\n",
       "           -1.5683e-02, -5.0353e-02]],\n",
       " \n",
       "         [[ 7.5094e-03,  5.6314e-02, -3.2159e-03,  ...,  6.6406e-03,\n",
       "           -1.9299e-02, -1.9936e-02],\n",
       "          [ 1.8119e-03, -3.8900e-02,  4.6017e-04,  ..., -4.5537e-03,\n",
       "            6.5876e-02, -3.4966e-02],\n",
       "          [-7.2247e-02,  1.4537e-03, -1.8803e-02,  ..., -1.5467e-03,\n",
       "           -2.2232e-02, -6.1386e-03],\n",
       "          ...,\n",
       "          [ 8.8639e-03, -1.4907e-02, -4.9027e-02,  ..., -1.9576e-02,\n",
       "           -7.1358e-03, -1.4748e-02],\n",
       "          [ 1.0174e-02,  2.3481e-02, -2.5996e-02,  ...,  1.0725e-02,\n",
       "           -1.5683e-02, -5.0353e-02],\n",
       "          [ 1.6638e-02, -1.4022e-02,  3.5319e-02,  ...,  9.6779e-03,\n",
       "            1.0717e-02,  3.7681e-02]],\n",
       " \n",
       "         [[ 1.8119e-03, -3.8900e-02,  4.6017e-04,  ..., -4.5537e-03,\n",
       "            6.5876e-02, -3.4966e-02],\n",
       "          [-7.2247e-02,  1.4537e-03, -1.8803e-02,  ..., -1.5467e-03,\n",
       "           -2.2232e-02, -6.1386e-03],\n",
       "          [ 7.1568e-02,  4.8578e-02,  1.1710e-04,  ...,  1.2590e-02,\n",
       "            5.7233e-03,  1.0210e-02],\n",
       "          ...,\n",
       "          [ 1.0174e-02,  2.3481e-02, -2.5996e-02,  ...,  1.0725e-02,\n",
       "           -1.5683e-02, -5.0353e-02],\n",
       "          [ 1.6638e-02, -1.4022e-02,  3.5319e-02,  ...,  9.6779e-03,\n",
       "            1.0717e-02,  3.7681e-02],\n",
       "          [ 6.5244e-03,  3.4207e-02, -2.5166e-03,  ..., -7.1049e-03,\n",
       "            1.2423e-02,  1.0842e-01]]], dtype=torch.float64),\n",
       " tensor([[[-3.9359e-03],\n",
       "          [-2.0187e-03],\n",
       "          [ 3.3611e-02],\n",
       "          [ 2.7049e-03],\n",
       "          [-1.6993e-02],\n",
       "          [-2.7174e-03],\n",
       "          [ 7.9549e-02],\n",
       "          [-2.3953e-02],\n",
       "          [ 3.3643e-03],\n",
       "          [ 3.3230e-02],\n",
       "          [ 4.0298e-03],\n",
       "          [-1.4557e-03],\n",
       "          [ 6.6376e-04],\n",
       "          [ 9.5998e-03],\n",
       "          [ 8.8690e-03],\n",
       "          [ 3.3866e-02],\n",
       "          [-5.3100e-03],\n",
       "          [-1.6786e-02],\n",
       "          [ 1.5863e-02],\n",
       "          [ 6.2271e-03],\n",
       "          [-1.2878e-02],\n",
       "          [ 1.2426e-02],\n",
       "          [-2.7131e-02],\n",
       "          [ 8.1605e-02],\n",
       "          [-1.3699e-02],\n",
       "          [ 2.6783e-02],\n",
       "          [-1.1032e-03],\n",
       "          [-4.8927e-02],\n",
       "          [-1.5820e-02],\n",
       "          [-2.7097e-02],\n",
       "          [-2.1950e-03],\n",
       "          [ 1.3447e-02],\n",
       "          [ 1.1285e-02]],\n",
       " \n",
       "         [[ 1.3014e-02],\n",
       "          [-2.4878e-02],\n",
       "          [ 4.4003e-02],\n",
       "          [ 1.1949e-02],\n",
       "          [-2.4949e-02],\n",
       "          [ 1.9773e-02],\n",
       "          [-4.6719e-03],\n",
       "          [-3.0349e-03],\n",
       "          [-5.1152e-03],\n",
       "          [ 3.3301e-02],\n",
       "          [-3.3090e-03],\n",
       "          [-9.9163e-03],\n",
       "          [ 4.8158e-02],\n",
       "          [-1.6928e-02],\n",
       "          [-3.5646e-03],\n",
       "          [-5.2165e-03],\n",
       "          [-2.4539e-02],\n",
       "          [ 3.3823e-02],\n",
       "          [ 7.6179e-02],\n",
       "          [-5.8864e-03],\n",
       "          [ 1.3398e-02],\n",
       "          [ 1.5897e-02],\n",
       "          [-6.5324e-03],\n",
       "          [-5.5768e-02],\n",
       "          [ 0.0000e+00],\n",
       "          [ 3.4041e-03],\n",
       "          [-2.2099e-03],\n",
       "          [ 5.7930e-03],\n",
       "          [-4.5663e-03],\n",
       "          [-3.3553e-03],\n",
       "          [-4.5824e-03],\n",
       "          [-3.9518e-03],\n",
       "          [-2.9970e-03]],\n",
       " \n",
       "         [[-1.6400e-02],\n",
       "          [-8.8224e-03],\n",
       "          [-2.4774e-02],\n",
       "          [-9.3487e-04],\n",
       "          [-2.5427e-02],\n",
       "          [-1.0424e-02],\n",
       "          [-3.7001e-02],\n",
       "          [-1.7374e-02],\n",
       "          [ 3.1107e-02],\n",
       "          [-2.4674e-02],\n",
       "          [-5.9786e-03],\n",
       "          [ 9.6139e-03],\n",
       "          [-3.6282e-02],\n",
       "          [-1.2520e-02],\n",
       "          [-5.5702e-03],\n",
       "          [-1.2985e-02],\n",
       "          [ 1.6110e-02],\n",
       "          [-1.5045e-02],\n",
       "          [-3.2140e-02],\n",
       "          [-1.1074e-02],\n",
       "          [-1.3135e-02],\n",
       "          [-7.6636e-03],\n",
       "          [ 2.3778e-02],\n",
       "          [ 2.7496e-02],\n",
       "          [-6.9205e-03],\n",
       "          [-6.8200e-03],\n",
       "          [-1.8233e-02],\n",
       "          [-2.0910e-02],\n",
       "          [ 6.8414e-03],\n",
       "          [-1.7175e-02],\n",
       "          [-1.0091e-02],\n",
       "          [-1.2538e-02],\n",
       "          [ 7.9721e-03]],\n",
       " \n",
       "         [[ 8.8639e-03],\n",
       "          [-1.4907e-02],\n",
       "          [-4.9027e-02],\n",
       "          [-1.4532e-02],\n",
       "          [-5.4030e-02],\n",
       "          [-2.3982e-02],\n",
       "          [-5.2995e-02],\n",
       "          [-9.3971e-02],\n",
       "          [-3.9466e-02],\n",
       "          [-3.7855e-02],\n",
       "          [-1.8033e-02],\n",
       "          [-4.7924e-02],\n",
       "          [-9.2245e-03],\n",
       "          [-2.8813e-02],\n",
       "          [-1.1369e-02],\n",
       "          [-8.2430e-02],\n",
       "          [-3.4575e-02],\n",
       "          [-4.8951e-02],\n",
       "          [-3.9360e-02],\n",
       "          [ 2.5224e-03],\n",
       "          [ 4.2354e-03],\n",
       "          [-5.0553e-02],\n",
       "          [-1.9971e-02],\n",
       "          [-2.4444e-02],\n",
       "          [-4.2560e-02],\n",
       "          [-4.6995e-02],\n",
       "          [-2.6321e-03],\n",
       "          [-1.9720e-02],\n",
       "          [-2.0667e-02],\n",
       "          [-5.3852e-02],\n",
       "          [-1.9576e-02],\n",
       "          [-7.1358e-03],\n",
       "          [-1.4748e-02]],\n",
       " \n",
       "         [[ 1.0174e-02],\n",
       "          [ 2.3481e-02],\n",
       "          [-2.5996e-02],\n",
       "          [ 1.2392e-02],\n",
       "          [ 2.7079e-04],\n",
       "          [-2.0426e-02],\n",
       "          [ 5.5241e-03],\n",
       "          [ 1.4615e-02],\n",
       "          [-1.7300e-02],\n",
       "          [-1.1206e-02],\n",
       "          [ 1.1992e-02],\n",
       "          [ 3.2492e-02],\n",
       "          [ 3.0842e-03],\n",
       "          [ 1.2802e-02],\n",
       "          [-1.8875e-02],\n",
       "          [-2.2499e-02],\n",
       "          [ 5.2174e-03],\n",
       "          [ 5.6266e-04],\n",
       "          [-6.4523e-03],\n",
       "          [ 1.0301e-03],\n",
       "          [ 8.9733e-03],\n",
       "          [ 2.8756e-02],\n",
       "          [ 6.2606e-02],\n",
       "          [-3.4664e-02],\n",
       "          [-7.2728e-03],\n",
       "          [ 7.7405e-03],\n",
       "          [-7.9381e-03],\n",
       "          [-4.8095e-02],\n",
       "          [-1.8736e-02],\n",
       "          [-6.0321e-03],\n",
       "          [ 1.0725e-02],\n",
       "          [-1.5683e-02],\n",
       "          [-5.0353e-02]],\n",
       " \n",
       "         [[ 1.6638e-02],\n",
       "          [-1.4022e-02],\n",
       "          [ 3.5319e-02],\n",
       "          [ 1.4354e-02],\n",
       "          [ 2.9806e-02],\n",
       "          [-1.4698e-02],\n",
       "          [ 8.2619e-04],\n",
       "          [-1.1167e-03],\n",
       "          [ 2.8644e-02],\n",
       "          [ 9.2455e-04],\n",
       "          [ 7.4504e-03],\n",
       "          [ 1.3837e-02],\n",
       "          [ 8.5426e-03],\n",
       "          [-1.3136e-03],\n",
       "          [ 3.9906e-02],\n",
       "          [ 1.3637e-02],\n",
       "          [ 6.4840e-03],\n",
       "          [ 1.9267e-03],\n",
       "          [-8.4402e-03],\n",
       "          [ 4.9068e-03],\n",
       "          [ 3.7000e-03],\n",
       "          [-2.3824e-03],\n",
       "          [ 7.8410e-03],\n",
       "          [ 2.1339e-02],\n",
       "          [ 0.0000e+00],\n",
       "          [ 7.3866e-03],\n",
       "          [ 1.2446e-02],\n",
       "          [ 3.1251e-02],\n",
       "          [ 2.3615e-03],\n",
       "          [-7.5308e-03],\n",
       "          [ 9.6779e-03],\n",
       "          [ 1.0717e-02],\n",
       "          [ 3.7681e-02]],\n",
       " \n",
       "         [[ 6.5244e-03],\n",
       "          [ 3.4207e-02],\n",
       "          [-2.5166e-03],\n",
       "          [ 1.1868e-03],\n",
       "          [ 3.7704e-03],\n",
       "          [ 2.7330e-03],\n",
       "          [ 5.8995e-03],\n",
       "          [ 2.2322e-03],\n",
       "          [ 7.4238e-03],\n",
       "          [-1.0378e-03],\n",
       "          [-1.3875e-02],\n",
       "          [-1.2400e-03],\n",
       "          [-1.9825e-02],\n",
       "          [ 1.2160e-02],\n",
       "          [ 2.8694e-02],\n",
       "          [ 2.3333e-02],\n",
       "          [ 1.9330e-02],\n",
       "          [ 8.0168e-04],\n",
       "          [-7.3736e-04],\n",
       "          [-1.3408e-02],\n",
       "          [-2.7737e-03],\n",
       "          [ 1.5231e-02],\n",
       "          [-2.3059e-02],\n",
       "          [-9.7276e-03],\n",
       "          [-7.3260e-03],\n",
       "          [-2.9480e-03],\n",
       "          [-5.6380e-03],\n",
       "          [-1.6710e-02],\n",
       "          [ 2.3557e-03],\n",
       "          [ 5.4799e-02],\n",
       "          [-7.1049e-03],\n",
       "          [ 1.2423e-02],\n",
       "          [ 1.0842e-01]],\n",
       " \n",
       "         [[ 3.3814e-03],\n",
       "          [-3.5805e-02],\n",
       "          [-2.6912e-02],\n",
       "          [-1.4605e-02],\n",
       "          [-2.6629e-02],\n",
       "          [-5.4268e-03],\n",
       "          [-1.7526e-02],\n",
       "          [-2.2549e-02],\n",
       "          [-2.1318e-02],\n",
       "          [-2.2199e-02],\n",
       "          [-1.1003e-02],\n",
       "          [ 1.2168e-02],\n",
       "          [-1.3889e-02],\n",
       "          [-2.7250e-02],\n",
       "          [-2.1782e-03],\n",
       "          [-3.0713e-02],\n",
       "          [-2.3604e-02],\n",
       "          [-8.0096e-05],\n",
       "          [-1.1232e-02],\n",
       "          [-2.7248e-02],\n",
       "          [ 2.3063e-02],\n",
       "          [-2.6704e-02],\n",
       "          [-2.7990e-02],\n",
       "          [-1.1705e-02],\n",
       "          [ 3.6105e-02],\n",
       "          [-2.3649e-03],\n",
       "          [ 3.3867e-03],\n",
       "          [-1.8716e-02],\n",
       "          [-1.4218e-02],\n",
       "          [-1.6995e-02],\n",
       "          [-1.4179e-02],\n",
       "          [-1.7685e-02],\n",
       "          [-1.6846e-02]]], dtype=torch.float64)]"
      ]
     },
     "execution_count": 9,
     "metadata": {},
     "output_type": "execute_result"
    }
   ],
   "source": [
    "(next(iter(datamod.predict_dataloader())))"
   ]
  },
  {
   "cell_type": "code",
   "execution_count": 10,
   "id": "542b8f46",
   "metadata": {},
   "outputs": [],
   "source": [
    "base_zero=BaselineZeroModel(len(files),pred_duration)\n",
    "base_prev=BaselinePrevModel(len(files),pred_duration,his_dim=1)\n",
    "base_mean=BaselineMeanModel(len(files),pred_duration,mean_dim=1)\n",
    "model_params={\n",
    "    \"d_model\":8,\n",
    "    \"n_head\":8,\n",
    "    \"files\":files,\n",
    "    \"num_layers\":6,\n",
    "    \"y_inp\":False,\n",
    "    \"resolution\":resolution,\n",
    "    \"pred_duration\":1,\n",
    "    \"resolution\": resolution,\n",
    "    \"input_duration\":input_duration,\n",
    "    \"n_features\":1,\n",
    "    \"reduce_dims\":False\n",
    "    } \n"
   ]
  },
  {
   "cell_type": "code",
   "execution_count": 11,
   "id": "8dea4a11",
   "metadata": {},
   "outputs": [
    {
     "name": "stdout",
     "output_type": "stream",
     "text": [
      "torch.Size([1, 33, 1]) torch.Size([1, 33, 1]) torch.Size([1, 33, 1]) torch.Size([1, 33, 1])\n"
     ]
    }
   ],
   "source": [
    "with torch.no_grad():\n",
    "    print(base_zero(xin[:1]).shape,\n",
    "          base_prev(xin[:1]).shape,\n",
    "          base_mean(xin[:1]).shape,\n",
    "          yop[:1].shape\n",
    "          )\n"
   ]
  },
  {
   "cell_type": "code",
   "execution_count": 12,
   "id": "9e9360bd",
   "metadata": {},
   "outputs": [
    {
     "name": "stdout",
     "output_type": "stream",
     "text": [
      "torch.Size([8, 33, 1])\n"
     ]
    },
    {
     "data": {
      "text/plain": [
       "TFModel(\n",
       "  (enc): Sequential(\n",
       "    (input flatten): Flatten(start_dim=1, end_dim=-1)\n",
       "    (embedding layer): PositionalEmbedding(\n",
       "      (position): PositionalEncoding(\n",
       "        (dropout): Dropout(p=0.1, inplace=False)\n",
       "      )\n",
       "      (embedding): Embedding(2001, 8)\n",
       "      (converter): ConvLogEmb()\n",
       "    )\n",
       "    (tf flatten): Flatten(start_dim=1, end_dim=-1)\n",
       "    (reshape layer): Unflatten(dim=1, unflattened_size=(50, 264))\n",
       "    (encoder layers): TransformerEncoder(\n",
       "      (layers): ModuleList(\n",
       "        (0-5): 6 x TransformerEncoderLayer(\n",
       "          (self_attn): MultiheadAttention(\n",
       "            (out_proj): NonDynamicallyQuantizableLinear(in_features=264, out_features=264, bias=True)\n",
       "          )\n",
       "          (linear1): Linear(in_features=264, out_features=2048, bias=True)\n",
       "          (dropout): Dropout(p=0.1, inplace=False)\n",
       "          (linear2): Linear(in_features=2048, out_features=264, bias=True)\n",
       "          (norm1): LayerNorm((264,), eps=1e-05, elementwise_affine=True)\n",
       "          (norm2): LayerNorm((264,), eps=1e-05, elementwise_affine=True)\n",
       "          (dropout1): Dropout(p=0.1, inplace=False)\n",
       "          (dropout2): Dropout(p=0.1, inplace=False)\n",
       "        )\n",
       "      )\n",
       "    )\n",
       "  )\n",
       "  (dec_input): Sequential(\n",
       "    (input flatten): Flatten(start_dim=1, end_dim=-1)\n",
       "    (embedding layer): PositionalEmbedding(\n",
       "      (position): PositionalEncoding(\n",
       "        (dropout): Dropout(p=0.1, inplace=False)\n",
       "      )\n",
       "      (embedding): Embedding(2001, 8)\n",
       "      (converter): ConvLogEmb()\n",
       "    )\n",
       "    (tf flatten): Flatten(start_dim=1, end_dim=-1)\n",
       "    (reshape_layer): Unflatten(dim=1, unflattened_size=(50, 264))\n",
       "  )\n",
       "  (decoder): TransformerDecoder(\n",
       "    (layers): ModuleList(\n",
       "      (0-5): 6 x TransformerDecoderLayer(\n",
       "        (self_attn): MultiheadAttention(\n",
       "          (out_proj): NonDynamicallyQuantizableLinear(in_features=264, out_features=264, bias=True)\n",
       "        )\n",
       "        (multihead_attn): MultiheadAttention(\n",
       "          (out_proj): NonDynamicallyQuantizableLinear(in_features=264, out_features=264, bias=True)\n",
       "        )\n",
       "        (linear1): Linear(in_features=264, out_features=2048, bias=True)\n",
       "        (dropout): Dropout(p=0.1, inplace=False)\n",
       "        (linear2): Linear(in_features=2048, out_features=264, bias=True)\n",
       "        (norm1): LayerNorm((264,), eps=1e-05, elementwise_affine=True)\n",
       "        (norm2): LayerNorm((264,), eps=1e-05, elementwise_affine=True)\n",
       "        (norm3): LayerNorm((264,), eps=1e-05, elementwise_affine=True)\n",
       "        (dropout1): Dropout(p=0.1, inplace=False)\n",
       "        (dropout2): Dropout(p=0.1, inplace=False)\n",
       "        (dropout3): Dropout(p=0.1, inplace=False)\n",
       "      )\n",
       "    )\n",
       "  )\n",
       "  (ff): Sequential(\n",
       "    (compressor_0): Linear(in_features=264, out_features=264, bias=True)\n",
       "    (compressor_1): Linear(in_features=264, out_features=1, bias=True)\n",
       "    (flatten_layer): Flatten(start_dim=1, end_dim=-1)\n",
       "    (bias_elim): Linear(in_features=50, out_features=33, bias=True)\n",
       "    (unflatten_layer): Unflatten(dim=-1, unflattened_size=(33, 1))\n",
       "  )\n",
       ")"
      ]
     },
     "execution_count": 12,
     "metadata": {},
     "output_type": "execute_result"
    }
   ],
   "source": [
    "model=TFModel(**model_params)\n",
    "model.eval()\n",
    "with torch.no_grad():\n",
    "    t=next(iter(datamod.predict_dataloader()))[0].to('cpu')\n",
    "    print(model(t).shape)\n",
    "\n",
    "model"
   ]
  },
  {
   "cell_type": "code",
   "execution_count": 13,
   "id": "878d3f2b",
   "metadata": {},
   "outputs": [
    {
     "name": "stdout",
     "output_type": "stream",
     "text": [
      "L1Loss()\n"
     ]
    },
    {
     "data": {
      "text/plain": [
       "torch.Size([8, 33, 1])"
      ]
     },
     "execution_count": 13,
     "metadata": {},
     "output_type": "execute_result"
    }
   ],
   "source": [
    "loss=nn.L1Loss\n",
    "Litmodel=LitTFmodel(model=model,loss=loss,opt=torch.optim.Adam,stocks=files,reduction='mean')\n",
    "print(Litmodel.loss)\n",
    "Litmodel(next(iter(datamod.val_dataloader())),0).shape"
   ]
  },
  {
   "cell_type": "code",
   "execution_count": 14,
   "id": "adf7ce8a",
   "metadata": {},
   "outputs": [
    {
     "name": "stderr",
     "output_type": "stream",
     "text": [
      "GPU available: True (cuda), used: True\n",
      "TPU available: False, using: 0 TPU cores\n",
      "HPU available: False, using: 0 HPUs\n",
      "/opt/conda/lib/python3.11/site-packages/lightning/pytorch/trainer/connectors/logger_connector/logger_connector.py:76: Starting from v1.9.0, `tensorboardX` has been removed as a dependency of the `lightning.pytorch` package, due to potential conflicts with other packages in the ML ecosystem. For this reason, `logger=True` will use `CSVLogger` as the default logger, unless the `tensorboard` or `tensorboardX` packages are found. Please `pip install lightning[extra]` or one of them to enable TensorBoard support by default\n"
     ]
    }
   ],
   "source": [
    "trainer=L.Trainer(\n",
    "    callbacks=[\n",
    "        callbacks.EarlyStopping(f\"avg_{Litmodel.loss}\"[:-2])\n",
    "    ],\n",
    "    max_epochs=100,\n",
    "    enable_progress_bar=True,\n",
    "    enable_model_summary=True,\n",
    "    enable_checkpointing=False,\n",
    "    num_sanity_val_steps=0,\n",
    ")"
   ]
  },
  {
   "cell_type": "code",
   "execution_count": 15,
   "id": "7d82396b",
   "metadata": {},
   "outputs": [
    {
     "name": "stderr",
     "output_type": "stream",
     "text": [
      "You are using a CUDA device ('NVIDIA GeForce RTX 3070 Ti Laptop GPU') that has Tensor Cores. To properly utilize them, you should set `torch.set_float32_matmul_precision('medium' | 'high')` which will trade-off precision for performance. For more details, read https://pytorch.org/docs/stable/generated/torch.set_float32_matmul_precision.html#torch.set_float32_matmul_precision\n",
      "LOCAL_RANK: 0 - CUDA_VISIBLE_DEVICES: [0]\n",
      "\n",
      "  | Name  | Type    | Params | Mode \n",
      "------------------------------------------\n",
      "0 | model | TFModel | 18.2 M | eval \n",
      "1 | loss  | L1Loss  | 0      | train\n",
      "------------------------------------------\n",
      "18.2 M    Trainable params\n",
      "0         Non-trainable params\n",
      "18.2 M    Total params\n",
      "72.643    Total estimated model params size (MB)\n",
      "1         Modules in train mode\n",
      "173       Modules in eval mode\n"
     ]
    },
    {
     "name": "stdout",
     "output_type": "stream",
     "text": [
      "[dataIndices(val_start=62, val_end=72, train_start=122, train_end=204, test_start=254, test_end=264), dataIndices(val_start=264, val_end=274, train_start=324, train_end=406, test_start=456, test_end=466), dataIndices(val_start=466, val_end=476, train_start=526, train_end=608, test_start=658, test_end=668), dataIndices(val_start=668, val_end=678, train_start=728, train_end=810, test_start=860, test_end=870), dataIndices(val_start=870, val_end=880, train_start=930, train_end=1012, test_start=1062, test_end=1072)]\n",
      "[dataIndices(val_start=62, val_end=72, train_start=122, train_end=204, test_start=254, test_end=264), dataIndices(val_start=264, val_end=274, train_start=324, train_end=406, test_start=456, test_end=466), dataIndices(val_start=466, val_end=476, train_start=526, train_end=608, test_start=658, test_end=668), dataIndices(val_start=668, val_end=678, train_start=728, train_end=810, test_start=860, test_end=870), dataIndices(val_start=870, val_end=880, train_start=930, train_end=1012, test_start=1062, test_end=1072)]\n"
     ]
    },
    {
     "data": {
      "application/vnd.jupyter.widget-view+json": {
       "model_id": "13529457b2e441aa9b3c8bf83f8b3293",
       "version_major": 2,
       "version_minor": 0
      },
      "text/plain": [
       "Training: |          | 0/? [00:00<?, ?it/s]"
      ]
     },
     "metadata": {},
     "output_type": "display_data"
    },
    {
     "data": {
      "application/vnd.jupyter.widget-view+json": {
       "model_id": "21d6d306e8df41e5b62db76d15c35f5a",
       "version_major": 2,
       "version_minor": 0
      },
      "text/plain": [
       "Validation: |          | 0/? [00:00<?, ?it/s]"
      ]
     },
     "metadata": {},
     "output_type": "display_data"
    },
    {
     "data": {
      "application/vnd.jupyter.widget-view+json": {
       "model_id": "4da0c612bcd64da8bc6cec97accaff48",
       "version_major": 2,
       "version_minor": 0
      },
      "text/plain": [
       "Validation: |          | 0/? [00:00<?, ?it/s]"
      ]
     },
     "metadata": {},
     "output_type": "display_data"
    },
    {
     "data": {
      "application/vnd.jupyter.widget-view+json": {
       "model_id": "ea28cd7ff33b4cd6b0d0e3d7aaa3cbb5",
       "version_major": 2,
       "version_minor": 0
      },
      "text/plain": [
       "Validation: |          | 0/? [00:00<?, ?it/s]"
      ]
     },
     "metadata": {},
     "output_type": "display_data"
    },
    {
     "data": {
      "application/vnd.jupyter.widget-view+json": {
       "model_id": "205631e8fbdb4bcbad51ae5ef7dfcf44",
       "version_major": 2,
       "version_minor": 0
      },
      "text/plain": [
       "Validation: |          | 0/? [00:00<?, ?it/s]"
      ]
     },
     "metadata": {},
     "output_type": "display_data"
    },
    {
     "data": {
      "application/vnd.jupyter.widget-view+json": {
       "model_id": "49ed39f12b8a473fb9e3b48af8b27fee",
       "version_major": 2,
       "version_minor": 0
      },
      "text/plain": [
       "Validation: |          | 0/? [00:00<?, ?it/s]"
      ]
     },
     "metadata": {},
     "output_type": "display_data"
    },
    {
     "data": {
      "application/vnd.jupyter.widget-view+json": {
       "model_id": "514b4cca6bb14cf9ba9852f30d88f515",
       "version_major": 2,
       "version_minor": 0
      },
      "text/plain": [
       "Validation: |          | 0/? [00:00<?, ?it/s]"
      ]
     },
     "metadata": {},
     "output_type": "display_data"
    },
    {
     "data": {
      "application/vnd.jupyter.widget-view+json": {
       "model_id": "0d3e36f5ff0e4acba2b46acde9d5bbaf",
       "version_major": 2,
       "version_minor": 0
      },
      "text/plain": [
       "Validation: |          | 0/? [00:00<?, ?it/s]"
      ]
     },
     "metadata": {},
     "output_type": "display_data"
    },
    {
     "data": {
      "application/vnd.jupyter.widget-view+json": {
       "model_id": "45c383c34ea24279ab70eb5d88043de8",
       "version_major": 2,
       "version_minor": 0
      },
      "text/plain": [
       "Validation: |          | 0/? [00:00<?, ?it/s]"
      ]
     },
     "metadata": {},
     "output_type": "display_data"
    },
    {
     "data": {
      "application/vnd.jupyter.widget-view+json": {
       "model_id": "1defec6af00b4df3934341bc51eb0f34",
       "version_major": 2,
       "version_minor": 0
      },
      "text/plain": [
       "Validation: |          | 0/? [00:00<?, ?it/s]"
      ]
     },
     "metadata": {},
     "output_type": "display_data"
    },
    {
     "data": {
      "application/vnd.jupyter.widget-view+json": {
       "model_id": "fe8804ab13df48b996ef0a7d1f7af152",
       "version_major": 2,
       "version_minor": 0
      },
      "text/plain": [
       "Validation: |          | 0/? [00:00<?, ?it/s]"
      ]
     },
     "metadata": {},
     "output_type": "display_data"
    },
    {
     "data": {
      "application/vnd.jupyter.widget-view+json": {
       "model_id": "1d572416d4d44911b566663142b69f6e",
       "version_major": 2,
       "version_minor": 0
      },
      "text/plain": [
       "Validation: |          | 0/? [00:00<?, ?it/s]"
      ]
     },
     "metadata": {},
     "output_type": "display_data"
    },
    {
     "data": {
      "application/vnd.jupyter.widget-view+json": {
       "model_id": "7cbb3cb9ace04f4aa951436ff00cfea7",
       "version_major": 2,
       "version_minor": 0
      },
      "text/plain": [
       "Validation: |          | 0/? [00:00<?, ?it/s]"
      ]
     },
     "metadata": {},
     "output_type": "display_data"
    },
    {
     "data": {
      "application/vnd.jupyter.widget-view+json": {
       "model_id": "9a0cccd75ea140bcb6dbffa3119af5a1",
       "version_major": 2,
       "version_minor": 0
      },
      "text/plain": [
       "Validation: |          | 0/? [00:00<?, ?it/s]"
      ]
     },
     "metadata": {},
     "output_type": "display_data"
    },
    {
     "data": {
      "application/vnd.jupyter.widget-view+json": {
       "model_id": "9929c9c175a0459ab426dea03a9983f7",
       "version_major": 2,
       "version_minor": 0
      },
      "text/plain": [
       "Validation: |          | 0/? [00:00<?, ?it/s]"
      ]
     },
     "metadata": {},
     "output_type": "display_data"
    },
    {
     "data": {
      "application/vnd.jupyter.widget-view+json": {
       "model_id": "619e8de67ef44e7096f540a57acd135f",
       "version_major": 2,
       "version_minor": 0
      },
      "text/plain": [
       "Validation: |          | 0/? [00:00<?, ?it/s]"
      ]
     },
     "metadata": {},
     "output_type": "display_data"
    },
    {
     "data": {
      "application/vnd.jupyter.widget-view+json": {
       "model_id": "5a16eae40bf64124b16d4a0b3595efe4",
       "version_major": 2,
       "version_minor": 0
      },
      "text/plain": [
       "Validation: |          | 0/? [00:00<?, ?it/s]"
      ]
     },
     "metadata": {},
     "output_type": "display_data"
    },
    {
     "data": {
      "application/vnd.jupyter.widget-view+json": {
       "model_id": "d449eea1c7f947598ed7554cc3211b25",
       "version_major": 2,
       "version_minor": 0
      },
      "text/plain": [
       "Validation: |          | 0/? [00:00<?, ?it/s]"
      ]
     },
     "metadata": {},
     "output_type": "display_data"
    },
    {
     "data": {
      "application/vnd.jupyter.widget-view+json": {
       "model_id": "b24005cc3b0f41ca98ce82880de90b16",
       "version_major": 2,
       "version_minor": 0
      },
      "text/plain": [
       "Validation: |          | 0/? [00:00<?, ?it/s]"
      ]
     },
     "metadata": {},
     "output_type": "display_data"
    },
    {
     "data": {
      "application/vnd.jupyter.widget-view+json": {
       "model_id": "7b9e2e4766944e72bb2040467849d133",
       "version_major": 2,
       "version_minor": 0
      },
      "text/plain": [
       "Validation: |          | 0/? [00:00<?, ?it/s]"
      ]
     },
     "metadata": {},
     "output_type": "display_data"
    },
    {
     "data": {
      "application/vnd.jupyter.widget-view+json": {
       "model_id": "1a04423e199943a18d9694f0724c9897",
       "version_major": 2,
       "version_minor": 0
      },
      "text/plain": [
       "Validation: |          | 0/? [00:00<?, ?it/s]"
      ]
     },
     "metadata": {},
     "output_type": "display_data"
    },
    {
     "data": {
      "application/vnd.jupyter.widget-view+json": {
       "model_id": "82574675ecfe488c834229028c98e692",
       "version_major": 2,
       "version_minor": 0
      },
      "text/plain": [
       "Validation: |          | 0/? [00:00<?, ?it/s]"
      ]
     },
     "metadata": {},
     "output_type": "display_data"
    },
    {
     "data": {
      "application/vnd.jupyter.widget-view+json": {
       "model_id": "ef4ce60d65d04215a75870ceb105ce7a",
       "version_major": 2,
       "version_minor": 0
      },
      "text/plain": [
       "Validation: |          | 0/? [00:00<?, ?it/s]"
      ]
     },
     "metadata": {},
     "output_type": "display_data"
    },
    {
     "data": {
      "application/vnd.jupyter.widget-view+json": {
       "model_id": "b318ff0954d64093912c6c78918232ec",
       "version_major": 2,
       "version_minor": 0
      },
      "text/plain": [
       "Validation: |          | 0/? [00:00<?, ?it/s]"
      ]
     },
     "metadata": {},
     "output_type": "display_data"
    },
    {
     "data": {
      "application/vnd.jupyter.widget-view+json": {
       "model_id": "84c9c914c59c4337b6932635144489dd",
       "version_major": 2,
       "version_minor": 0
      },
      "text/plain": [
       "Validation: |          | 0/? [00:00<?, ?it/s]"
      ]
     },
     "metadata": {},
     "output_type": "display_data"
    },
    {
     "data": {
      "application/vnd.jupyter.widget-view+json": {
       "model_id": "9ad3f2b15b1344d9bf36a305ea4dfe1c",
       "version_major": 2,
       "version_minor": 0
      },
      "text/plain": [
       "Validation: |          | 0/? [00:00<?, ?it/s]"
      ]
     },
     "metadata": {},
     "output_type": "display_data"
    },
    {
     "data": {
      "application/vnd.jupyter.widget-view+json": {
       "model_id": "12d0a20b28134b04a1d0567b581feeb2",
       "version_major": 2,
       "version_minor": 0
      },
      "text/plain": [
       "Validation: |          | 0/? [00:00<?, ?it/s]"
      ]
     },
     "metadata": {},
     "output_type": "display_data"
    },
    {
     "data": {
      "application/vnd.jupyter.widget-view+json": {
       "model_id": "7ae599033a3442cd91ff000d29eb886c",
       "version_major": 2,
       "version_minor": 0
      },
      "text/plain": [
       "Validation: |          | 0/? [00:00<?, ?it/s]"
      ]
     },
     "metadata": {},
     "output_type": "display_data"
    },
    {
     "data": {
      "application/vnd.jupyter.widget-view+json": {
       "model_id": "7a45d72acf7742809555a264abb7fc4c",
       "version_major": 2,
       "version_minor": 0
      },
      "text/plain": [
       "Validation: |          | 0/? [00:00<?, ?it/s]"
      ]
     },
     "metadata": {},
     "output_type": "display_data"
    },
    {
     "data": {
      "application/vnd.jupyter.widget-view+json": {
       "model_id": "c4f670933d1848a39192616b26b82a7e",
       "version_major": 2,
       "version_minor": 0
      },
      "text/plain": [
       "Validation: |          | 0/? [00:00<?, ?it/s]"
      ]
     },
     "metadata": {},
     "output_type": "display_data"
    },
    {
     "data": {
      "application/vnd.jupyter.widget-view+json": {
       "model_id": "e75b9d241e6844ea83370c9873fe6689",
       "version_major": 2,
       "version_minor": 0
      },
      "text/plain": [
       "Validation: |          | 0/? [00:00<?, ?it/s]"
      ]
     },
     "metadata": {},
     "output_type": "display_data"
    },
    {
     "data": {
      "application/vnd.jupyter.widget-view+json": {
       "model_id": "53a588c6a38c45368ec2ed6cfc542bd6",
       "version_major": 2,
       "version_minor": 0
      },
      "text/plain": [
       "Validation: |          | 0/? [00:00<?, ?it/s]"
      ]
     },
     "metadata": {},
     "output_type": "display_data"
    },
    {
     "data": {
      "application/vnd.jupyter.widget-view+json": {
       "model_id": "41ca462595ae4ea6b9d60ce0664adfc4",
       "version_major": 2,
       "version_minor": 0
      },
      "text/plain": [
       "Validation: |          | 0/? [00:00<?, ?it/s]"
      ]
     },
     "metadata": {},
     "output_type": "display_data"
    },
    {
     "data": {
      "application/vnd.jupyter.widget-view+json": {
       "model_id": "132efa1eb1bb491c81d3feaedf397ae5",
       "version_major": 2,
       "version_minor": 0
      },
      "text/plain": [
       "Validation: |          | 0/? [00:00<?, ?it/s]"
      ]
     },
     "metadata": {},
     "output_type": "display_data"
    },
    {
     "data": {
      "application/vnd.jupyter.widget-view+json": {
       "model_id": "e8c3f7efe78d450ca7e5fb6f592c9946",
       "version_major": 2,
       "version_minor": 0
      },
      "text/plain": [
       "Validation: |          | 0/? [00:00<?, ?it/s]"
      ]
     },
     "metadata": {},
     "output_type": "display_data"
    },
    {
     "data": {
      "application/vnd.jupyter.widget-view+json": {
       "model_id": "35db1636020040fc8f95930481cc9c25",
       "version_major": 2,
       "version_minor": 0
      },
      "text/plain": [
       "Validation: |          | 0/? [00:00<?, ?it/s]"
      ]
     },
     "metadata": {},
     "output_type": "display_data"
    },
    {
     "data": {
      "application/vnd.jupyter.widget-view+json": {
       "model_id": "74d8a19de93a4cab9cb4862db0afe604",
       "version_major": 2,
       "version_minor": 0
      },
      "text/plain": [
       "Validation: |          | 0/? [00:00<?, ?it/s]"
      ]
     },
     "metadata": {},
     "output_type": "display_data"
    },
    {
     "data": {
      "application/vnd.jupyter.widget-view+json": {
       "model_id": "4d9c007bb4524bf881d252c4911a8cae",
       "version_major": 2,
       "version_minor": 0
      },
      "text/plain": [
       "Validation: |          | 0/? [00:00<?, ?it/s]"
      ]
     },
     "metadata": {},
     "output_type": "display_data"
    },
    {
     "data": {
      "application/vnd.jupyter.widget-view+json": {
       "model_id": "1d83de7d503a4855a011058a0f23c534",
       "version_major": 2,
       "version_minor": 0
      },
      "text/plain": [
       "Validation: |          | 0/? [00:00<?, ?it/s]"
      ]
     },
     "metadata": {},
     "output_type": "display_data"
    },
    {
     "data": {
      "application/vnd.jupyter.widget-view+json": {
       "model_id": "2a4ea8ffc9a14f8eb8e03a0f23b86fd5",
       "version_major": 2,
       "version_minor": 0
      },
      "text/plain": [
       "Validation: |          | 0/? [00:00<?, ?it/s]"
      ]
     },
     "metadata": {},
     "output_type": "display_data"
    },
    {
     "data": {
      "application/vnd.jupyter.widget-view+json": {
       "model_id": "36ba9f7abade49b3a0ec1a2401124313",
       "version_major": 2,
       "version_minor": 0
      },
      "text/plain": [
       "Validation: |          | 0/? [00:00<?, ?it/s]"
      ]
     },
     "metadata": {},
     "output_type": "display_data"
    },
    {
     "data": {
      "application/vnd.jupyter.widget-view+json": {
       "model_id": "7bf14ef16c0a42da8af27b4c929ba160",
       "version_major": 2,
       "version_minor": 0
      },
      "text/plain": [
       "Validation: |          | 0/? [00:00<?, ?it/s]"
      ]
     },
     "metadata": {},
     "output_type": "display_data"
    },
    {
     "data": {
      "application/vnd.jupyter.widget-view+json": {
       "model_id": "68abd1639ce646dab4a88fa4dcdf5abc",
       "version_major": 2,
       "version_minor": 0
      },
      "text/plain": [
       "Validation: |          | 0/? [00:00<?, ?it/s]"
      ]
     },
     "metadata": {},
     "output_type": "display_data"
    },
    {
     "data": {
      "application/vnd.jupyter.widget-view+json": {
       "model_id": "1f546d65e63c4816909975aeb557b9c8",
       "version_major": 2,
       "version_minor": 0
      },
      "text/plain": [
       "Validation: |          | 0/? [00:00<?, ?it/s]"
      ]
     },
     "metadata": {},
     "output_type": "display_data"
    },
    {
     "data": {
      "application/vnd.jupyter.widget-view+json": {
       "model_id": "f945236965944423ac711aa102b77ec0",
       "version_major": 2,
       "version_minor": 0
      },
      "text/plain": [
       "Validation: |          | 0/? [00:00<?, ?it/s]"
      ]
     },
     "metadata": {},
     "output_type": "display_data"
    },
    {
     "data": {
      "application/vnd.jupyter.widget-view+json": {
       "model_id": "9c54ca96e3684eca8615a1ad13110e7d",
       "version_major": 2,
       "version_minor": 0
      },
      "text/plain": [
       "Validation: |          | 0/? [00:00<?, ?it/s]"
      ]
     },
     "metadata": {},
     "output_type": "display_data"
    },
    {
     "data": {
      "application/vnd.jupyter.widget-view+json": {
       "model_id": "f16edd711cf4489d937684fd02bdf496",
       "version_major": 2,
       "version_minor": 0
      },
      "text/plain": [
       "Validation: |          | 0/? [00:00<?, ?it/s]"
      ]
     },
     "metadata": {},
     "output_type": "display_data"
    },
    {
     "data": {
      "application/vnd.jupyter.widget-view+json": {
       "model_id": "ee5fa477fc21400c8fac40d6be149703",
       "version_major": 2,
       "version_minor": 0
      },
      "text/plain": [
       "Validation: |          | 0/? [00:00<?, ?it/s]"
      ]
     },
     "metadata": {},
     "output_type": "display_data"
    },
    {
     "data": {
      "application/vnd.jupyter.widget-view+json": {
       "model_id": "24988e06e3b0424aa384bf0a26684993",
       "version_major": 2,
       "version_minor": 0
      },
      "text/plain": [
       "Validation: |          | 0/? [00:00<?, ?it/s]"
      ]
     },
     "metadata": {},
     "output_type": "display_data"
    },
    {
     "data": {
      "application/vnd.jupyter.widget-view+json": {
       "model_id": "d4e362de79274877ad7061a0819f9887",
       "version_major": 2,
       "version_minor": 0
      },
      "text/plain": [
       "Validation: |          | 0/? [00:00<?, ?it/s]"
      ]
     },
     "metadata": {},
     "output_type": "display_data"
    },
    {
     "data": {
      "application/vnd.jupyter.widget-view+json": {
       "model_id": "b6e5870689e64313b81d882284831199",
       "version_major": 2,
       "version_minor": 0
      },
      "text/plain": [
       "Validation: |          | 0/? [00:00<?, ?it/s]"
      ]
     },
     "metadata": {},
     "output_type": "display_data"
    },
    {
     "data": {
      "application/vnd.jupyter.widget-view+json": {
       "model_id": "13b68f7d13cd4ac2b5231d0783ee0a3b",
       "version_major": 2,
       "version_minor": 0
      },
      "text/plain": [
       "Validation: |          | 0/? [00:00<?, ?it/s]"
      ]
     },
     "metadata": {},
     "output_type": "display_data"
    },
    {
     "data": {
      "application/vnd.jupyter.widget-view+json": {
       "model_id": "2c1de8e543f746848777d74b3718c742",
       "version_major": 2,
       "version_minor": 0
      },
      "text/plain": [
       "Validation: |          | 0/? [00:00<?, ?it/s]"
      ]
     },
     "metadata": {},
     "output_type": "display_data"
    },
    {
     "data": {
      "application/vnd.jupyter.widget-view+json": {
       "model_id": "ba43b9e4a8514390be050d09bb0cd5ed",
       "version_major": 2,
       "version_minor": 0
      },
      "text/plain": [
       "Validation: |          | 0/? [00:00<?, ?it/s]"
      ]
     },
     "metadata": {},
     "output_type": "display_data"
    },
    {
     "data": {
      "application/vnd.jupyter.widget-view+json": {
       "model_id": "c5739cb084fe43318d2a1aedbd719e9e",
       "version_major": 2,
       "version_minor": 0
      },
      "text/plain": [
       "Validation: |          | 0/? [00:00<?, ?it/s]"
      ]
     },
     "metadata": {},
     "output_type": "display_data"
    },
    {
     "data": {
      "application/vnd.jupyter.widget-view+json": {
       "model_id": "d4c5f4d2dd394e06b7c4deb47d79f5cd",
       "version_major": 2,
       "version_minor": 0
      },
      "text/plain": [
       "Validation: |          | 0/? [00:00<?, ?it/s]"
      ]
     },
     "metadata": {},
     "output_type": "display_data"
    },
    {
     "data": {
      "application/vnd.jupyter.widget-view+json": {
       "model_id": "2ad8037600084b7c8eef6e29d5c83204",
       "version_major": 2,
       "version_minor": 0
      },
      "text/plain": [
       "Validation: |          | 0/? [00:00<?, ?it/s]"
      ]
     },
     "metadata": {},
     "output_type": "display_data"
    },
    {
     "data": {
      "application/vnd.jupyter.widget-view+json": {
       "model_id": "ab8b0a58c58d4492ae02e7ee10fa13bd",
       "version_major": 2,
       "version_minor": 0
      },
      "text/plain": [
       "Validation: |          | 0/? [00:00<?, ?it/s]"
      ]
     },
     "metadata": {},
     "output_type": "display_data"
    },
    {
     "data": {
      "application/vnd.jupyter.widget-view+json": {
       "model_id": "175177a74ba044c5a45577f3d4313be6",
       "version_major": 2,
       "version_minor": 0
      },
      "text/plain": [
       "Validation: |          | 0/? [00:00<?, ?it/s]"
      ]
     },
     "metadata": {},
     "output_type": "display_data"
    },
    {
     "data": {
      "application/vnd.jupyter.widget-view+json": {
       "model_id": "2511d39a9856477ab8064c7123a9c1cd",
       "version_major": 2,
       "version_minor": 0
      },
      "text/plain": [
       "Validation: |          | 0/? [00:00<?, ?it/s]"
      ]
     },
     "metadata": {},
     "output_type": "display_data"
    }
   ],
   "source": [
    "trainer.fit(Litmodel,datamod)#train_dataloaders=datamod.train_dataloader(),val_dataloaders=datamod.val_dataloader()"
   ]
  },
  {
   "cell_type": "code",
   "execution_count": 16,
   "id": "797d9d70",
   "metadata": {},
   "outputs": [
    {
     "name": "stderr",
     "output_type": "stream",
     "text": [
      "LOCAL_RANK: 0 - CUDA_VISIBLE_DEVICES: [0]\n"
     ]
    },
    {
     "name": "stdout",
     "output_type": "stream",
     "text": [
      "[dataIndices(val_start=62, val_end=72, train_start=122, train_end=204, test_start=254, test_end=264), dataIndices(val_start=264, val_end=274, train_start=324, train_end=406, test_start=456, test_end=466), dataIndices(val_start=466, val_end=476, train_start=526, train_end=608, test_start=658, test_end=668), dataIndices(val_start=668, val_end=678, train_start=728, train_end=810, test_start=860, test_end=870), dataIndices(val_start=870, val_end=880, train_start=930, train_end=1012, test_start=1062, test_end=1072)]\n",
      "[dataIndices(val_start=62, val_end=72, train_start=122, train_end=204, test_start=254, test_end=264), dataIndices(val_start=264, val_end=274, train_start=324, train_end=406, test_start=456, test_end=466), dataIndices(val_start=466, val_end=476, train_start=526, train_end=608, test_start=658, test_end=668), dataIndices(val_start=668, val_end=678, train_start=728, train_end=810, test_start=860, test_end=870), dataIndices(val_start=870, val_end=880, train_start=930, train_end=1012, test_start=1062, test_end=1072)]\n"
     ]
    },
    {
     "data": {
      "application/vnd.jupyter.widget-view+json": {
       "model_id": "eb2a5ec55c1d46e6ac9527098a190f25",
       "version_major": 2,
       "version_minor": 0
      },
      "text/plain": [
       "Validation: |          | 0/? [00:00<?, ?it/s]"
      ]
     },
     "metadata": {},
     "output_type": "display_data"
    },
    {
     "data": {
      "text/html": [
       "<pre style=\"white-space:pre;overflow-x:auto;line-height:normal;font-family:Menlo,'DejaVu Sans Mono',consolas,'Courier New',monospace\">┏━━━━━━━━━━━━━━━━━━━━━━━━━━━━━━━━━┳━━━━━━━━━━━━━━━━━━━━━━━━━━━━━━━━━┓\n",
       "┃<span style=\"font-weight: bold\">         Validate metric         </span>┃<span style=\"font-weight: bold\">          DataLoader 0           </span>┃\n",
       "┡━━━━━━━━━━━━━━━━━━━━━━━━━━━━━━━━━╇━━━━━━━━━━━━━━━━━━━━━━━━━━━━━━━━━┩\n",
       "│<span style=\"color: #008080; text-decoration-color: #008080\">           avg_L1Loss            </span>│<span style=\"color: #800080; text-decoration-color: #800080\">       0.01603734585735238       </span>│\n",
       "│<span style=\"color: #008080; text-decoration-color: #008080\">      avg_MeanAbsoluteError      </span>│<span style=\"color: #800080; text-decoration-color: #800080\">       0.01603734585735238       </span>│\n",
       "│<span style=\"color: #008080; text-decoration-color: #008080\"> avg_MeanAbsolutePercentageError </span>│<span style=\"color: #800080; text-decoration-color: #800080\">        42.25394873538421        </span>│\n",
       "│<span style=\"color: #008080; text-decoration-color: #008080\">      avg_MeanSquaredError       </span>│<span style=\"color: #800080; text-decoration-color: #800080\">      0.0005177491977704608      </span>│\n",
       "└─────────────────────────────────┴─────────────────────────────────┘\n",
       "</pre>\n"
      ],
      "text/plain": [
       "┏━━━━━━━━━━━━━━━━━━━━━━━━━━━━━━━━━┳━━━━━━━━━━━━━━━━━━━━━━━━━━━━━━━━━┓\n",
       "┃\u001b[1m \u001b[0m\u001b[1m        Validate metric        \u001b[0m\u001b[1m \u001b[0m┃\u001b[1m \u001b[0m\u001b[1m         DataLoader 0          \u001b[0m\u001b[1m \u001b[0m┃\n",
       "┡━━━━━━━━━━━━━━━━━━━━━━━━━━━━━━━━━╇━━━━━━━━━━━━━━━━━━━━━━━━━━━━━━━━━┩\n",
       "│\u001b[36m \u001b[0m\u001b[36m          avg_L1Loss           \u001b[0m\u001b[36m \u001b[0m│\u001b[35m \u001b[0m\u001b[35m      0.01603734585735238      \u001b[0m\u001b[35m \u001b[0m│\n",
       "│\u001b[36m \u001b[0m\u001b[36m     avg_MeanAbsoluteError     \u001b[0m\u001b[36m \u001b[0m│\u001b[35m \u001b[0m\u001b[35m      0.01603734585735238      \u001b[0m\u001b[35m \u001b[0m│\n",
       "│\u001b[36m \u001b[0m\u001b[36mavg_MeanAbsolutePercentageError\u001b[0m\u001b[36m \u001b[0m│\u001b[35m \u001b[0m\u001b[35m       42.25394873538421       \u001b[0m\u001b[35m \u001b[0m│\n",
       "│\u001b[36m \u001b[0m\u001b[36m     avg_MeanSquaredError      \u001b[0m\u001b[36m \u001b[0m│\u001b[35m \u001b[0m\u001b[35m     0.0005177491977704608     \u001b[0m\u001b[35m \u001b[0m│\n",
       "└─────────────────────────────────┴─────────────────────────────────┘\n"
      ]
     },
     "metadata": {},
     "output_type": "display_data"
    },
    {
     "data": {
      "text/plain": [
       "[{'avg_L1Loss': 0.01603734585735238,\n",
       "  'avg_MeanAbsoluteError': 0.01603734585735238,\n",
       "  'avg_MeanAbsolutePercentageError': 42.25394873538421,\n",
       "  'avg_MeanSquaredError': 0.0005177491977704608}]"
      ]
     },
     "execution_count": 16,
     "metadata": {},
     "output_type": "execute_result"
    }
   ],
   "source": [
    "trainer.validate(Litmodel,datamod)"
   ]
  },
  {
   "cell_type": "code",
   "execution_count": 17,
   "id": "efb9ab2c",
   "metadata": {},
   "outputs": [
    {
     "name": "stderr",
     "output_type": "stream",
     "text": [
      "LOCAL_RANK: 0 - CUDA_VISIBLE_DEVICES: [0]\n"
     ]
    },
    {
     "name": "stdout",
     "output_type": "stream",
     "text": [
      "[dataIndices(val_start=62, val_end=72, train_start=122, train_end=204, test_start=254, test_end=264), dataIndices(val_start=264, val_end=274, train_start=324, train_end=406, test_start=456, test_end=466), dataIndices(val_start=466, val_end=476, train_start=526, train_end=608, test_start=658, test_end=668), dataIndices(val_start=668, val_end=678, train_start=728, train_end=810, test_start=860, test_end=870), dataIndices(val_start=870, val_end=880, train_start=930, train_end=1012, test_start=1062, test_end=1072)]\n",
      "[dataIndices(val_start=62, val_end=72, train_start=122, train_end=204, test_start=254, test_end=264), dataIndices(val_start=264, val_end=274, train_start=324, train_end=406, test_start=456, test_end=466), dataIndices(val_start=466, val_end=476, train_start=526, train_end=608, test_start=658, test_end=668), dataIndices(val_start=668, val_end=678, train_start=728, train_end=810, test_start=860, test_end=870), dataIndices(val_start=870, val_end=880, train_start=930, train_end=1012, test_start=1062, test_end=1072)]\n"
     ]
    },
    {
     "data": {
      "application/vnd.jupyter.widget-view+json": {
       "model_id": "e326fa507bbc49149641f7759f697b8e",
       "version_major": 2,
       "version_minor": 0
      },
      "text/plain": [
       "Testing: |          | 0/? [00:00<?, ?it/s]"
      ]
     },
     "metadata": {},
     "output_type": "display_data"
    },
    {
     "data": {
      "text/html": [
       "<pre style=\"white-space:pre;overflow-x:auto;line-height:normal;font-family:Menlo,'DejaVu Sans Mono',consolas,'Courier New',monospace\">┏━━━━━━━━━━━━━━━━━━━━━━━━━━━━━━━━━┳━━━━━━━━━━━━━━━━━━━━━━━━━━━━━━━━━┓\n",
       "┃<span style=\"font-weight: bold\">           Test metric           </span>┃<span style=\"font-weight: bold\">          DataLoader 0           </span>┃\n",
       "┡━━━━━━━━━━━━━━━━━━━━━━━━━━━━━━━━━╇━━━━━━━━━━━━━━━━━━━━━━━━━━━━━━━━━┩\n",
       "│<span style=\"color: #008080; text-decoration-color: #008080\">           avg_L1Loss            </span>│<span style=\"color: #800080; text-decoration-color: #800080\">      0.015922639944315496       </span>│\n",
       "│<span style=\"color: #008080; text-decoration-color: #008080\">      avg_MeanAbsoluteError      </span>│<span style=\"color: #800080; text-decoration-color: #800080\">      0.015922639944315496       </span>│\n",
       "│<span style=\"color: #008080; text-decoration-color: #008080\"> avg_MeanAbsolutePercentageError </span>│<span style=\"color: #800080; text-decoration-color: #800080\">       19.664987535244496        </span>│\n",
       "│<span style=\"color: #008080; text-decoration-color: #008080\">      avg_MeanSquaredError       </span>│<span style=\"color: #800080; text-decoration-color: #800080\">      0.0005336959862481697      </span>│\n",
       "└─────────────────────────────────┴─────────────────────────────────┘\n",
       "</pre>\n"
      ],
      "text/plain": [
       "┏━━━━━━━━━━━━━━━━━━━━━━━━━━━━━━━━━┳━━━━━━━━━━━━━━━━━━━━━━━━━━━━━━━━━┓\n",
       "┃\u001b[1m \u001b[0m\u001b[1m          Test metric          \u001b[0m\u001b[1m \u001b[0m┃\u001b[1m \u001b[0m\u001b[1m         DataLoader 0          \u001b[0m\u001b[1m \u001b[0m┃\n",
       "┡━━━━━━━━━━━━━━━━━━━━━━━━━━━━━━━━━╇━━━━━━━━━━━━━━━━━━━━━━━━━━━━━━━━━┩\n",
       "│\u001b[36m \u001b[0m\u001b[36m          avg_L1Loss           \u001b[0m\u001b[36m \u001b[0m│\u001b[35m \u001b[0m\u001b[35m     0.015922639944315496      \u001b[0m\u001b[35m \u001b[0m│\n",
       "│\u001b[36m \u001b[0m\u001b[36m     avg_MeanAbsoluteError     \u001b[0m\u001b[36m \u001b[0m│\u001b[35m \u001b[0m\u001b[35m     0.015922639944315496      \u001b[0m\u001b[35m \u001b[0m│\n",
       "│\u001b[36m \u001b[0m\u001b[36mavg_MeanAbsolutePercentageError\u001b[0m\u001b[36m \u001b[0m│\u001b[35m \u001b[0m\u001b[35m      19.664987535244496       \u001b[0m\u001b[35m \u001b[0m│\n",
       "│\u001b[36m \u001b[0m\u001b[36m     avg_MeanSquaredError      \u001b[0m\u001b[36m \u001b[0m│\u001b[35m \u001b[0m\u001b[35m     0.0005336959862481697     \u001b[0m\u001b[35m \u001b[0m│\n",
       "└─────────────────────────────────┴─────────────────────────────────┘\n"
      ]
     },
     "metadata": {},
     "output_type": "display_data"
    },
    {
     "data": {
      "text/plain": [
       "[{'avg_L1Loss': 0.015922639944315496,\n",
       "  'avg_MeanAbsoluteError': 0.015922639944315496,\n",
       "  'avg_MeanAbsolutePercentageError': 19.664987535244496,\n",
       "  'avg_MeanSquaredError': 0.0005336959862481697}]"
      ]
     },
     "execution_count": 17,
     "metadata": {},
     "output_type": "execute_result"
    }
   ],
   "source": [
    "trainer.test(Litmodel,datamod)"
   ]
  },
  {
   "cell_type": "code",
   "execution_count": 18,
   "id": "6af62c47",
   "metadata": {},
   "outputs": [],
   "source": [
    "prices=np.array([i['close'][-2:-1] for i in close_prices.values()])"
   ]
  },
  {
   "cell_type": "code",
   "execution_count": 25,
   "id": "d15d8526",
   "metadata": {},
   "outputs": [
    {
     "name": "stdout",
     "output_type": "stream",
     "text": [
      "{'EMAMILTD': np.float64(590.1508803839245), 'MFSL': np.float64(1140.0916327238083), 'SAREGAMA': np.float64(497.45161332491966), 'MARICO': np.float64(630.970198908344), 'BASF': np.float64(5632.013599467755), 'SOLARINDS': np.float64(10620.509427576908), 'DCMSHRIRAM': np.float64(1080.07796895504), 'TITAGARH': np.float64(1318.0095558553028), 'COFORGE': np.float64(9444.098011341062), 'BAJAJHLDNG': np.float64(11293.486869335175), 'BRITANNIA': np.float64(4788.23546308279), 'AMBER': np.float64(6056.280419480056), 'HINDZINC': np.float64(488.22192622761355), 'MAHSCOOTER': np.float64(9708.606566598406), 'JUSTDIAL': np.float64(1026.4683707363233), 'ASTERDM': np.float64(492.3489516438133), 'THERMAX': np.float64(4768.950462824316), 'INGERRAND': np.float64(4430.222253026441), 'GODFRYPHLP': np.float64(5888.177425353613), 'CHOLAHLDNG': np.float64(1516.208613716825), 'SUPREMEIND': np.float64(4964.180449336767), 'GLENMARK': np.float64(1515.9785652811431), 'BHARTIARTL': np.float64(1615.8944777549136), 'ENDURANCE': np.float64(2248.2166731357574), 'IFCI': np.float64(62.289094174811446), 'VGUARD': np.float64(432.66265027963186), 'FORTIS': np.float64(680.9153955758154), 'HEG': np.float64(560.9452008494914), 'RVNL': np.float64(469.9287586741268), 'ASAHIINDIA': np.float64(739.030670106411), 'COLPAL': np.float64(2783.645547371474), 'INFY': np.float64(1986.8283982682503), 'INDUSTOWER': np.float64(343.1276241924738)}\n"
     ]
    }
   ],
   "source": [
    "with open(os.path.join(results_dir,'live_predictions.json'),'w') as f:\n",
    "    predictions={x:y for x,y in zip(files,((1+Litmodel((xin[-2:-1],yop[-1]),0).detach().numpy())*prices).squeeze())}\n",
    "    print(predictions)\n",
    "    json.dump(predictions,f)"
   ]
  }
 ],
 "metadata": {
  "kernelspec": {
   "display_name": "base",
   "language": "python",
   "name": "python3"
  },
  "language_info": {
   "codemirror_mode": {
    "name": "ipython",
    "version": 3
   },
   "file_extension": ".py",
   "mimetype": "text/x-python",
   "name": "python",
   "nbconvert_exporter": "python",
   "pygments_lexer": "ipython3",
   "version": "3.11.11"
  }
 },
 "nbformat": 4,
 "nbformat_minor": 5
}
